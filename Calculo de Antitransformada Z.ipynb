{
  "nbformat": 4,
  "nbformat_minor": 0,
  "metadata": {
    "colab": {
      "provenance": [],
      "toc_visible": true,
      "authorship_tag": "ABX9TyNNjMeaLZa65NU/Y6G1kP3O",
      "include_colab_link": true
    },
    "kernelspec": {
      "name": "python3",
      "display_name": "Python 3"
    },
    "language_info": {
      "name": "python"
    }
  },
  "cells": [
    {
      "cell_type": "markdown",
      "metadata": {
        "id": "view-in-github",
        "colab_type": "text"
      },
      "source": [
        "<a href=\"https://colab.research.google.com/github/RomaMason/Programacion/blob/main/Calculo%20de%20Antitransformada%20Z.ipynb\" target=\"_parent\"><img src=\"https://colab.research.google.com/assets/colab-badge.svg\" alt=\"Open In Colab\"/></a>"
      ]
    },
    {
      "cell_type": "code",
      "source": [
        "import sympy as sp\n",
        "\n",
        "# Definimos la variable z\n",
        "z = sp.symbols('z')\n",
        "\n",
        "# La expresión a la cual le vamos a calcular la antitransformada Z\n",
        "expr =  (0.25*z**3+0.15*z)/(z**3-1.85*z**2+0.98*z-0.13)\n",
        "\n",
        "# Calculamos la antitransformada Z\n",
        "inverse_z_transform = sp.inverse_laplace_transform(expr, z, sp.symbols('k'))\n",
        "\n",
        "# Imprimir el resultado\n",
        "print(inverse_z_transform)\n"
      ],
      "metadata": {
        "colab": {
          "base_uri": "https://localhost:8080/"
        },
        "id": "Aj4O2_uOup5C",
        "outputId": "687d1c2e-81be-492e-e46a-ac2e1cb71b89"
      },
      "execution_count": 8,
      "outputs": [
        {
          "output_type": "stream",
          "name": "stdout",
          "text": [
            "0.0888888888888889*exp(0.2*k)*Heaviside(k) - 1.05496031746032*exp(0.65*k)*Heaviside(k) + 1.42857142857143*exp(k)*Heaviside(k) + 0.25*DiracDelta(k)\n"
          ]
        }
      ]
    },
    {
      "cell_type": "code",
      "source": [
        "import sympy as sp\n",
        "\n",
        "# Definimos la variable z\n",
        "z = sp.symbols('z')\n",
        "\n",
        "# La expresión a la cual le vamos a calcular la antitransformada Z\n",
        "expr = (1.5*z**3-z**2+0.9*z-0.6)/(z**4-1.85*z**3+0.98*z**2-0.13*z)\n",
        "\n",
        "# Calculamos la antitransformada Z\n",
        "inverse_z_transform = sp.inverse_laplace_transform(expr, z, sp.symbols('k'))\n",
        "\n",
        "# Imprimir el resultado\n",
        "print(inverse_z_transform)\n"
      ],
      "metadata": {
        "colab": {
          "base_uri": "https://localhost:8080/"
        },
        "id": "yI-gfiZ5vryI",
        "outputId": "d6131e05-ed9d-4ccf-a09b-91eae471ae2b"
      },
      "execution_count": 10,
      "outputs": [
        {
          "output_type": "stream",
          "name": "stdout",
          "text": [
            "-6.22222222222222*exp(0.2*k)*Heaviside(k) + 0.249694749694748*exp(0.65*k)*Heaviside(k) + 2.85714285714286*exp(k)*Heaviside(k) + 4.61538461538461*Heaviside(k)\n"
          ]
        }
      ]
    },
    {
      "cell_type": "code",
      "source": [
        "from scipy import signal\n",
        "import numpy as np\n",
        "\n",
        "# Coeficientes del numerador y denominador\n",
        "num = [0.25, 0, 0.15]  # Numerador de la función de transferencia (ejemplo)\n",
        "den = [1, -0.85, 0.13]  # Denominador de la función de transferencia (ejemplo)\n",
        "\n",
        "# Crear la función de transferencia en tiempo discreto con periodo de muestreo Ts\n",
        "Ts = 0.05  # Ejemplo de periodo de muestreo\n",
        "sys_d = signal.dlti(num, den, dt=Ts)\n",
        "\n",
        "# Obtener polos y ceros\n",
        "poles, zeros = sys_d.poles, sys_d.zeros\n",
        "print(\"Polos:\", poles)\n",
        "print(\"Ceros:\", zeros)\n",
        "\n",
        "# Respuesta en frecuencia\n",
        "w, h = signal.dfreqresp(sys_d)\n"
      ],
      "metadata": {
        "colab": {
          "base_uri": "https://localhost:8080/"
        },
        "id": "oHbmxF-gxnl6",
        "outputId": "91c05e6b-c198-43f7-9a37-d09359113f94"
      },
      "execution_count": 11,
      "outputs": [
        {
          "output_type": "stream",
          "name": "stdout",
          "text": [
            "Polos: [0.65 0.2 ]\n",
            "Ceros: [-0.+0.77459667j  0.-0.77459667j]\n"
          ]
        }
      ]
    },
    {
      "cell_type": "code",
      "source": [
        "from scipy import signal\n",
        "\n",
        "# Coeficientes del numerador (correspondientes a r(k))\n",
        "num = [0.25, 0, 1.5]\n",
        "\n",
        "# Coeficientes del denominador (correspondientes a y(k))\n",
        "den = [1, -0.85, 0.13]\n",
        "\n",
        "# Creo la función de transferencia\n",
        "system = signal.dlti(num, den)\n",
        "\n",
        "# Imprimo la función de transferencia\n",
        "print(\"Numerador:\", system.num)\n",
        "print(\"Denominador:\", system.den)\n"
      ],
      "metadata": {
        "colab": {
          "base_uri": "https://localhost:8080/"
        },
        "id": "kDfupLrKzA1A",
        "outputId": "b6efefe2-9fe1-4a6e-d3d4-7dbddf0f9319"
      },
      "execution_count": 12,
      "outputs": [
        {
          "output_type": "stream",
          "name": "stdout",
          "text": [
            "Numerador: [0.25 0.   1.5 ]\n",
            "Denominador: [ 1.   -0.85  0.13]\n"
          ]
        }
      ]
    }
  ]
}